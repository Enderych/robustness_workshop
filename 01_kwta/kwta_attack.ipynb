{
  "nbformat": 4,
  "nbformat_minor": 0,
  "metadata": {
    "kernelspec": {
      "name": "python3",
      "display_name": "Python 3"
    },
    "language_info": {
      "codemirror_mode": {
        "name": "ipython",
        "version": 3
      },
      "file_extension": ".py",
      "mimetype": "text/x-python",
      "name": "python",
      "nbconvert_exporter": "python",
      "pygments_lexer": "ipython3",
      "version": "3.6.8"
    },
    "colab": {
      "name": "kwta_attack.ipynb",
      "provenance": []
    },
    "accelerator": "GPU"
  },
  "cells": [
    {
      "cell_type": "code",
      "metadata": {
        "id": "XpE0FJg7mBZf",
        "colab_type": "code",
        "colab": {}
      },
      "source": [
        "# this cell contains all the commands necessary to run this notebook in colab\n",
        "# if you cloned the repository and run this notebook locally you do not need to run these commands\n",
        "!wget https://raw.githubusercontent.com/wielandbrendel/robustness_workshop/v0.0.1/01_kwta/resnet.py\n",
        "!wget https://raw.githubusercontent.com/wielandbrendel/robustness_workshop/v0.0.1/01_kwta/models.py"
      ],
      "execution_count": 0,
      "outputs": []
    },
    {
      "cell_type": "code",
      "metadata": {
        "id": "sIarr6G8m_4k",
        "colab_type": "code",
        "colab": {}
      },
      "source": [
        "# run this cell the first time you execute this notebook to download the pretrained weights\n",
        "!wget https://github.com/wielandbrendel/robustness_workshop/releases/download/v0.0.1/kwta_spresnet18_0.1_cifar_adv.pth"
      ],
      "execution_count": 0,
      "outputs": []
    },
    {
      "cell_type": "code",
      "metadata": {
        "id": "YwKueA3to3ZS",
        "colab_type": "code",
        "colab": {}
      },
      "source": [
        "# install the latest master version of Foolbox 3.0\n",
        "!pip3 install git+https://github.com/bethgelab/foolbox.git"
      ],
      "execution_count": 0,
      "outputs": []
    },
    {
      "cell_type": "code",
      "metadata": {
        "id": "Bi1XwcTQl1Bp",
        "colab_type": "code",
        "colab": {}
      },
      "source": [
        "import torch\n",
        "from torchvision import datasets, transforms\n",
        "from torch.utils.data import DataLoader\n",
        "import torchvision\n",
        "import numpy as np\n",
        "\n",
        "import resnet"
      ],
      "execution_count": 0,
      "outputs": []
    },
    {
      "cell_type": "markdown",
      "metadata": {
        "id": "i9Ck9uRil1B2",
        "colab_type": "text"
      },
      "source": [
        "### load data"
      ]
    },
    {
      "cell_type": "code",
      "metadata": {
        "id": "ozOMJhwql1B8",
        "colab_type": "code",
        "colab": {}
      },
      "source": [
        "norm_mean = 0\n",
        "norm_var = 1\n",
        "transform_train = transforms.Compose([\n",
        "    transforms.RandomCrop(32, padding=4),\n",
        "    transforms.RandomHorizontalFlip(),\n",
        "    transforms.ToTensor(),\n",
        "    transforms.Normalize((norm_mean,norm_mean,norm_mean), (norm_var, norm_var, norm_var)),\n",
        "])\n",
        "\n",
        "transform_test = transforms.Compose([\n",
        "    transforms.ToTensor(),\n",
        "    transforms.Normalize((norm_mean,norm_mean,norm_mean), (norm_var, norm_var, norm_var)),\n",
        "])\n",
        "cifar_train = datasets.CIFAR10(\"./data\", train=True, download=True, transform=transform_train)\n",
        "cifar_test = datasets.CIFAR10(\"./data\", train=False, download=True, transform=transform_test)\n",
        "train_loader = DataLoader(cifar_train, batch_size = 256, shuffle=True)\n",
        "test_loader = DataLoader(cifar_test, batch_size = 100, shuffle=True)"
      ],
      "execution_count": 0,
      "outputs": []
    },
    {
      "cell_type": "markdown",
      "metadata": {
        "id": "BwxyNL0bl1CG",
        "colab_type": "text"
      },
      "source": [
        "### load model"
      ]
    },
    {
      "cell_type": "code",
      "metadata": {
        "id": "LxtxTQb7l1CI",
        "colab_type": "code",
        "colab": {}
      },
      "source": [
        "# if you hit a \"no CUDA-capable device is detected\" with colab, please\n",
        "# make sure that you enabled the GPU runtime (Runtime >> Change runtime type >> select Hardware acceleration)\n",
        "gamma = 0.1\n",
        "eps = 0.031\n",
        "filepath = f'kwta_spresnet18_{gamma}_cifar_adv.pth'\n",
        "device = torch.device('cuda:0')\n",
        "\n",
        "model = resnet.SparseResNet18(sparsities=[gamma, gamma, gamma, gamma], sparse_func='vol').to(device)\n",
        "model.load_state_dict(torch.load(filepath))\n",
        "model.eval();"
      ],
      "execution_count": 0,
      "outputs": []
    },
    {
      "cell_type": "markdown",
      "metadata": {
        "id": "O4Ho8WgsotFR",
        "colab_type": "text"
      },
      "source": [
        "### clean accuracy"
      ]
    },
    {
      "cell_type": "code",
      "metadata": {
        "scrolled": true,
        "id": "2_gt-jT-l1CQ",
        "colab_type": "code",
        "colab": {}
      },
      "source": [
        "acc = 0\n",
        "total_number = 0\n",
        "\n",
        "for images, labels in test_loader:\n",
        "    logits = model(images.to(device))\n",
        "    acc += np.sum(logits.detach().cpu().numpy().argmax(1) == labels.cpu().numpy())\n",
        "    total_number += images.shape[0]\n",
        "\n",
        "print(acc / total_number)"
      ],
      "execution_count": 0,
      "outputs": []
    },
    {
      "cell_type": "code",
      "metadata": {
        "id": "OO_cGetol1CY",
        "colab_type": "code",
        "colab": {}
      },
      "source": [
        ""
      ],
      "execution_count": 0,
      "outputs": []
    }
  ]
}