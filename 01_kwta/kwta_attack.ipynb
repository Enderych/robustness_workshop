{
 "cells": [
  {
   "cell_type": "code",
   "execution_count": 1,
   "metadata": {},
   "outputs": [],
   "source": [
    "import torch\n",
    "from torchvision import datasets, transforms\n",
    "from torch.utils.data import DataLoader\n",
    "import torchvision\n",
    "import numpy as np\n",
    "\n",
    "import resnet"
   ]
  },
  {
   "cell_type": "markdown",
   "metadata": {},
   "source": [
    "### load data"
   ]
  },
  {
   "cell_type": "code",
   "execution_count": 3,
   "metadata": {},
   "outputs": [
    {
     "name": "stderr",
     "output_type": "stream",
     "text": [
      "\n",
      "0it [00:00, ?it/s]\u001b[A"
     ]
    },
    {
     "name": "stdout",
     "output_type": "stream",
     "text": [
      "Downloading https://www.cs.toronto.edu/~kriz/cifar-10-python.tar.gz to ./data/cifar-10-python.tar.gz\n"
     ]
    },
    {
     "name": "stderr",
     "output_type": "stream",
     "text": [
      "\n",
      "  0%|          | 0/170498071 [00:00<?, ?it/s]\u001b[A\n",
      "  0%|          | 8192/170498071 [00:00<35:46, 79428.50it/s]\u001b[A\n",
      "  0%|          | 40960/170498071 [00:00<27:44, 102377.82it/s]\u001b[A\n",
      "  0%|          | 106496/170498071 [00:00<20:46, 136689.91it/s]\u001b[A\n",
      "  0%|          | 221184/170498071 [00:00<15:18, 185399.50it/s]\u001b[A\n",
      "  0%|          | 434176/170498071 [00:00<11:06, 254985.16it/s]\u001b[A\n",
      "  0%|          | 745472/170498071 [00:01<08:03, 351386.87it/s]\u001b[A\n",
      "  1%|          | 1433600/170498071 [00:01<05:44, 490790.16it/s]\u001b[A\n",
      "  1%|▏         | 2154496/170498071 [00:01<04:07, 680365.31it/s]\u001b[A\n",
      "  2%|▏         | 3956736/170498071 [00:01<02:54, 955835.93it/s]\u001b[A\n",
      "  4%|▍         | 6758400/170498071 [00:01<02:01, 1344848.41it/s]\u001b[A\n",
      "  6%|▌         | 9887744/170498071 [00:01<01:25, 1885278.67it/s]\u001b[A\n",
      "  8%|▊         | 13017088/170498071 [00:01<01:00, 2622724.33it/s]\u001b[A\n",
      "  9%|▉         | 15982592/170498071 [00:01<00:43, 3593289.41it/s]\u001b[A\n",
      " 11%|█         | 19111936/170498071 [00:01<00:31, 4879115.46it/s]\u001b[A\n",
      " 13%|█▎        | 21913600/170498071 [00:01<00:22, 6474150.06it/s]\u001b[A\n",
      " 15%|█▍        | 24797184/170498071 [00:02<00:17, 8404847.10it/s]\u001b[A\n",
      " 16%|█▋        | 27942912/170498071 [00:02<00:13, 10712903.27it/s]\u001b[A\n",
      " 18%|█▊        | 31072256/170498071 [00:02<00:10, 13276467.72it/s]\u001b[A\n",
      " 20%|█▉        | 33939456/170498071 [00:02<00:08, 15584943.32it/s]\u001b[A\n",
      " 22%|██▏       | 37068800/170498071 [00:02<00:07, 18191952.40it/s]\u001b[A\n",
      " 24%|██▎       | 40198144/170498071 [00:02<00:06, 20660651.72it/s]\u001b[A\n",
      " 25%|██▌       | 43343872/170498071 [00:02<00:05, 22622408.97it/s]\u001b[A\n",
      " 27%|██▋       | 46473216/170498071 [00:02<00:05, 24657267.76it/s]\u001b[A\n",
      " 29%|██▉       | 49438720/170498071 [00:02<00:04, 24926122.76it/s]\u001b[A\n",
      " 31%|███       | 52453376/170498071 [00:03<00:04, 26149738.53it/s]\u001b[A\n",
      " 33%|███▎      | 55582720/170498071 [00:03<00:04, 27154976.48it/s]\u001b[A\n",
      " 34%|███▍      | 58712064/170498071 [00:03<00:03, 27997258.55it/s]\u001b[A\n",
      " 36%|███▌      | 61652992/170498071 [00:03<00:03, 27536737.19it/s]\u001b[A\n",
      " 38%|███▊      | 64757760/170498071 [00:03<00:03, 28194321.82it/s]\u001b[A\n",
      " 40%|███▉      | 67903488/170498071 [00:03<00:03, 28494029.97it/s]\u001b[A\n",
      " 42%|████▏     | 71032832/170498071 [00:03<00:03, 28900770.07it/s]\u001b[A\n",
      " 43%|████▎     | 73965568/170498071 [00:03<00:03, 28332877.63it/s]\u001b[A\n",
      " 45%|████▌     | 76931072/170498071 [00:03<00:03, 28501494.48it/s]\u001b[A\n",
      " 47%|████▋     | 80076800/170498071 [00:04<00:03, 28777841.84it/s]\u001b[A\n",
      " 49%|████▊     | 82976768/170498071 [00:04<00:03, 26615747.65it/s]\u001b[A\n",
      " 50%|█████     | 85688320/170498071 [00:04<00:03, 25222987.44it/s]\u001b[A\n",
      " 52%|█████▏    | 88596480/170498071 [00:04<00:03, 26263686.68it/s]\u001b[A\n",
      " 54%|█████▎    | 91267072/170498071 [00:04<00:03, 25257261.60it/s]\u001b[A\n",
      " 55%|█████▌    | 94085120/170498071 [00:04<00:02, 26067182.08it/s]\u001b[A\n",
      " 57%|█████▋    | 96731136/170498071 [00:04<00:02, 25420370.68it/s]\u001b[A\n",
      " 58%|█████▊    | 99303424/170498071 [00:04<00:02, 25418533.30it/s]\u001b[A\n",
      " 60%|█████▉    | 101867520/170498071 [00:04<00:02, 24983336.00it/s]\u001b[A\n",
      " 61%|██████    | 104390656/170498071 [00:04<00:02, 25054780.84it/s]\u001b[A\n",
      " 63%|██████▎   | 106913792/170498071 [00:05<00:02, 25059042.25it/s]\u001b[A\n",
      " 64%|██████▍   | 109428736/170498071 [00:05<00:02, 24518236.77it/s]\u001b[A\n",
      " 66%|██████▌   | 111894528/170498071 [00:05<00:02, 24532560.31it/s]\u001b[A\n",
      " 67%|██████▋   | 114360320/170498071 [00:05<00:02, 24015114.93it/s]\u001b[A\n",
      " 69%|██████▊   | 117153792/170498071 [00:05<00:02, 25065107.91it/s]\u001b[A\n",
      " 70%|███████   | 119676928/170498071 [00:05<00:02, 24477922.90it/s]\u001b[A\n",
      " 72%|███████▏  | 122142720/170498071 [00:05<00:02, 18824897.51it/s]\u001b[A\n",
      " 73%|███████▎  | 124674048/170498071 [00:05<00:02, 20242087.14it/s]\u001b[A\n",
      " 75%|███████▍  | 127115264/170498071 [00:06<00:02, 21127225.96it/s]\u001b[A\n",
      " 76%|███████▌  | 129368064/170498071 [00:06<00:01, 21125573.79it/s]\u001b[A\n",
      " 78%|███████▊  | 132194304/170498071 [00:06<00:01, 22777825.75it/s]\u001b[A\n",
      " 79%|███████▉  | 134578176/170498071 [00:06<00:01, 22488344.08it/s]\u001b[A\n",
      " 81%|████████  | 137371648/170498071 [00:06<00:01, 23876538.84it/s]\u001b[A\n",
      " 82%|████████▏ | 139894784/170498071 [00:06<00:01, 24018216.87it/s]\u001b[A\n",
      " 84%|████████▍ | 142827520/170498071 [00:06<00:01, 25120526.60it/s]\u001b[A\n",
      " 86%|████████▌ | 145842176/170498071 [00:06<00:00, 26161100.39it/s]\u001b[A\n",
      " 87%|████████▋ | 148504576/170498071 [00:06<00:00, 23367622.03it/s]\u001b[A\n",
      " 89%|████████▊ | 151183360/170498071 [00:07<00:00, 24025958.28it/s]\u001b[A\n",
      " 90%|█████████ | 153657344/170498071 [00:07<00:00, 23680919.18it/s]\u001b[A\n",
      " 92%|█████████▏| 156073984/170498071 [00:07<00:00, 23370712.30it/s]\u001b[A\n",
      " 93%|█████████▎| 158449664/170498071 [00:07<00:00, 23012385.32it/s]\u001b[A\n",
      " 94%|█████████▍| 160776192/170498071 [00:07<00:00, 22783732.20it/s]\u001b[A\n",
      " 96%|█████████▌| 163078144/170498071 [00:07<00:00, 22528807.55it/s]\u001b[A\n",
      " 97%|█████████▋| 165347328/170498071 [00:07<00:00, 22341546.25it/s]\u001b[A\n",
      " 98%|█████████▊| 167591936/170498071 [00:07<00:00, 22163027.32it/s]\u001b[A\n",
      "100%|█████████▉| 169820160/170498071 [00:07<00:00, 21975442.74it/s]\u001b[A"
     ]
    },
    {
     "name": "stdout",
     "output_type": "stream",
     "text": [
      "Extracting ./data/cifar-10-python.tar.gz to ./data\n",
      "Files already downloaded and verified\n"
     ]
    }
   ],
   "source": [
    "norm_mean = 0\n",
    "norm_var = 1\n",
    "transform_train = transforms.Compose([\n",
    "    transforms.RandomCrop(32, padding=4),\n",
    "    transforms.RandomHorizontalFlip(),\n",
    "    transforms.ToTensor(),\n",
    "    transforms.Normalize((norm_mean,norm_mean,norm_mean), (norm_var, norm_var, norm_var)),\n",
    "])\n",
    "\n",
    "transform_test = transforms.Compose([\n",
    "    transforms.ToTensor(),\n",
    "    transforms.Normalize((norm_mean,norm_mean,norm_mean), (norm_var, norm_var, norm_var)),\n",
    "])\n",
    "cifar_train = datasets.CIFAR10(\"./data\", train=True, download=True, transform=transform_train)\n",
    "cifar_test = datasets.CIFAR10(\"./data\", train=False, download=True, transform=transform_test)\n",
    "train_loader = DataLoader(cifar_train, batch_size = 256, shuffle=True)\n",
    "test_loader = DataLoader(cifar_test, batch_size = 100, shuffle=True)"
   ]
  },
  {
   "cell_type": "markdown",
   "metadata": {},
   "source": [
    "### load model"
   ]
  },
  {
   "cell_type": "code",
   "execution_count": 9,
   "metadata": {},
   "outputs": [],
   "source": [
    "gamma = 0.2\n",
    "eps = 0.031\n",
    "filepath = f'spresnet18_{gamma}_cifar_adv.pth'\n",
    "device = torch.device('cuda:0')\n",
    "\n",
    "model = resnet.SparseResNet18(sparsities=[gamma, gamma, gamma, gamma], sparse_func='vol').to(device)\n",
    "model.load_state_dict(torch.load(filepath))\n",
    "model.eval();"
   ]
  },
  {
   "cell_type": "code",
   "execution_count": 11,
   "metadata": {
    "scrolled": true
   },
   "outputs": [
    {
     "name": "stdout",
     "output_type": "stream",
     "text": [
      "0.7693\n"
     ]
    }
   ],
   "source": [
    "acc = 0\n",
    "total_number = 0\n",
    "\n",
    "for images, labels in test_loader:\n",
    "    logits = model(images.to(device))\n",
    "    acc += np.sum(logits.detach().cpu().numpy().argmax(1) == labels.cpu().numpy())\n",
    "    total_number += images.shape[0]\n",
    "\n",
    "print(acc / total_number)"
   ]
  },
  {
   "cell_type": "code",
   "execution_count": null,
   "metadata": {},
   "outputs": [],
   "source": []
  }
 ],
 "metadata": {
  "kernelspec": {
   "display_name": "Python 3",
   "language": "python",
   "name": "python3"
  },
  "language_info": {
   "codemirror_mode": {
    "name": "ipython",
    "version": 3
   },
   "file_extension": ".py",
   "mimetype": "text/x-python",
   "name": "python",
   "nbconvert_exporter": "python",
   "pygments_lexer": "ipython3",
   "version": "3.6.8"
  }
 },
 "nbformat": 4,
 "nbformat_minor": 2
}
