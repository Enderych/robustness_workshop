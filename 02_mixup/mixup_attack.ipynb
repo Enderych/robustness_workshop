{
  "nbformat": 4,
  "nbformat_minor": 0,
  "metadata": {
    "kernelspec": {
      "name": "python3",
      "display_name": "Python 3"
    },
    "language_info": {
      "codemirror_mode": {
        "name": "ipython",
        "version": 3
      },
      "file_extension": ".py",
      "mimetype": "text/x-python",
      "name": "python",
      "nbconvert_exporter": "python",
      "pygments_lexer": "ipython3",
      "version": "3.6.8"
    },
    "colab": {
      "name": "mixup_attack.ipynb",
      "provenance": [],
      "include_colab_link": true
    },
    "accelerator": "GPU"
  },
  "cells": [
    {
      "cell_type": "markdown",
      "metadata": {
        "id": "view-in-github",
        "colab_type": "text"
      },
      "source": [
        "<a href=\"https://colab.research.google.com/github/wielandbrendel/robustness_workshop/blob/master/02_mixup/mixup_attack.ipynb\" target=\"_parent\"><img src=\"https://colab.research.google.com/assets/colab-badge.svg\" alt=\"Open In Colab\"/></a>"
      ]
    },
    {
      "cell_type": "code",
      "metadata": {
        "id": "xAqa1klSrkEP",
        "colab_type": "code",
        "colab": {}
      },
      "source": [
        "# this cell contains all the commands necessary to run this notebook in colab\n",
        "# if you cloned the repository and run this notebook locally you do not need to run these commands\n",
        "!wget https://raw.githubusercontent.com/wielandbrendel/robustness_workshop/master/02_mixup/resnet_3layer.py\n",
        "!wget https://raw.githubusercontent.com/wielandbrendel/robustness_workshop/master/02_mixup/transforms.py"
      ],
      "execution_count": 0,
      "outputs": []
    },
    {
      "cell_type": "code",
      "metadata": {
        "id": "fL2rST3QrzuT",
        "colab_type": "code",
        "colab": {}
      },
      "source": [
        "# run this cell the first time you execute this notebook to download the pretrained weights\n",
        "!wget https://github.com/wielandbrendel/robustness_workshop/releases/download/v0.0.1/mixup_model_IAT.ckpt"
      ],
      "execution_count": 0,
      "outputs": []
    },
    {
      "cell_type": "code",
      "metadata": {
        "id": "GE_3ky-Rrd2Z",
        "colab_type": "code",
        "colab": {}
      },
      "source": [
        "# install the latest master version of Foolbox 3.0\n",
        "!pip3 install git+https://github.com/bethgelab/foolbox.git"
      ],
      "execution_count": 0,
      "outputs": []
    },
    {
      "cell_type": "code",
      "metadata": {
        "id": "hqxWRcswvCnC",
        "colab_type": "code",
        "colab": {}
      },
      "source": [
        "!pip3 install --upgrade typing_extensions"
      ],
      "execution_count": 0,
      "outputs": []
    },
    {
      "cell_type": "code",
      "metadata": {
        "id": "GTiLRzJ_rYA-",
        "colab_type": "code",
        "colab": {}
      },
      "source": [
        "import os\n",
        "import torch\n",
        "import torchvision\n",
        "import numpy as np\n",
        "import foolbox as fb\n",
        "import eagerpy as ep\n",
        "\n",
        "import transforms\n",
        "import resnet_3layer as resnet"
      ],
      "execution_count": 0,
      "outputs": []
    },
    {
      "cell_type": "code",
      "metadata": {
        "id": "5TDsX2H2rYBN",
        "colab_type": "code",
        "colab": {}
      },
      "source": [
        "num_sample_MIOL = 15\n",
        "lamdaOL = 0.6"
      ],
      "execution_count": 0,
      "outputs": []
    },
    {
      "cell_type": "markdown",
      "metadata": {
        "id": "GR5LcewzrYBc",
        "colab_type": "text"
      },
      "source": [
        "### Load backbone model"
      ]
    },
    {
      "cell_type": "code",
      "metadata": {
        "id": "Do8LodSorYBf",
        "colab_type": "code",
        "colab": {}
      },
      "source": [
        "CLASSIFIER = resnet.model_dict['resnet50']\n",
        "classifier = CLASSIFIER(num_classes=10)\n",
        "\n",
        "device = torch.device(\"cuda:0\")\n",
        "classifier = classifier.to(device)\n",
        "\n",
        "classifier.load_state_dict(torch.load('mixup_model_IAT.ckpt'))\n",
        "classifier.eval();"
      ],
      "execution_count": 0,
      "outputs": []
    },
    {
      "cell_type": "markdown",
      "metadata": {
        "id": "onppDLrirYBo",
        "colab_type": "text"
      },
      "source": [
        "### Construct image pools"
      ]
    },
    {
      "cell_type": "code",
      "metadata": {
        "id": "Cd7GM1_BrYBs",
        "colab_type": "code",
        "colab": {}
      },
      "source": [
        "def onehot(ind):\n",
        "    vector = np.zeros([10])\n",
        "    vector[ind] = 1\n",
        "    return vector.astype(np.float32)\n",
        "\n",
        "train_trans, test_trans = transforms.cifar_transform()\n",
        "trainset = torchvision.datasets.CIFAR10(root='~/cifar/',\n",
        "                                        train=False,\n",
        "                                        download=True,\n",
        "                                        transform=train_trans,\n",
        "                                        target_transform=onehot)\n",
        "testset = torchvision.datasets.CIFAR10(root='~/cifar/',\n",
        "                                       train=False,\n",
        "                                       download=True,\n",
        "                                       transform=test_trans,\n",
        "                                       target_transform=onehot)\n",
        "\n",
        "# we reduce the testset for this workshop\n",
        "testset.data = testset.data[:200]\n",
        "\n",
        "dataloader_train = torch.utils.data.DataLoader(\n",
        "    trainset,\n",
        "    batch_size=1,\n",
        "    shuffle=True,\n",
        "    num_workers=2)\n",
        "\n",
        "dataloader_test = torch.utils.data.DataLoader(\n",
        "    testset,\n",
        "    batch_size=10,\n",
        "    shuffle=False,\n",
        "    num_workers=5)"
      ],
      "execution_count": 0,
      "outputs": []
    },
    {
      "cell_type": "code",
      "metadata": {
        "scrolled": true,
        "id": "3sBHEl2DrYB1",
        "colab_type": "code",
        "colab": {}
      },
      "source": [
        "from tqdm import tqdm\n",
        "num_pool = 10000\n",
        "mixup_pool_OL = {}\n",
        "\n",
        "for i in range(10):\n",
        "    mixup_pool_OL.update({i: []})\n",
        "\n",
        "for i, data_batch in tqdm(enumerate(dataloader_train), total=num_pool):\n",
        "    img_batch, label_batch = data_batch\n",
        "    img_batch = img_batch.to(device)\n",
        "    _, label_ind = torch.max(label_batch.data, 1)\n",
        "    mixup_pool_OL[label_ind.numpy()[0]].append(img_batch)\n",
        "    if i >= (num_pool - 1):\n",
        "        break\n",
        "\n",
        "print('Finish constructing mixup_pool_OL')"
      ],
      "execution_count": 0,
      "outputs": []
    },
    {
      "cell_type": "markdown",
      "metadata": {
        "id": "W79o71oSrYB8",
        "colab_type": "text"
      },
      "source": [
        "### Construct surrogate models that wrap OL within model"
      ]
    },
    {
      "cell_type": "code",
      "metadata": {
        "code_folding": [
          5
        ],
        "id": "ySaBEdFmrYB_",
        "colab_type": "code",
        "colab": {}
      },
      "source": [
        "import torch.nn as nn\n",
        "import torch.nn.functional as F\n",
        "\n",
        "soft_max = nn.Softmax(dim=-1)\n",
        "\n",
        "class CombinedModel(nn.Module):\n",
        "    def __init__(self, classifier):\n",
        "        super(CombinedModel, self).__init__()\n",
        "        self.classifier = classifier\n",
        "\n",
        "    def forward(self, img_batch):\n",
        "        pred_cle_mixup_all_OL = 0 # torch.Tensor([0.]*10)\n",
        "        \n",
        "        # forward pass without PL/OL\n",
        "        pred_cle = self.classifier(img_batch)\n",
        "        cle_con, predicted_cle = torch.max(soft_max(pred_cle.data), 1)\n",
        "        predicted_cle = predicted_cle.cpu().numpy()\n",
        "            \n",
        "        # perform MI-OL\n",
        "        for k in range(num_sample_MIOL):\n",
        "            mixup_img_batch = np.empty(img_batch.shape, dtype=np.float32)\n",
        "            \n",
        "            for b in range(img_batch.shape[0]):\n",
        "                # CLEAN\n",
        "                xs_cle_label = np.random.randint(10)\n",
        "                while xs_cle_label == predicted_cle[b]:\n",
        "                    xs_cle_label = np.random.randint(10)\n",
        "                xs_cle_index = np.random.randint(len(mixup_pool_OL[xs_cle_label]))\n",
        "                mixup_img_cle = (1 - lamdaOL) * mixup_pool_OL[xs_cle_label][xs_cle_index][0]\n",
        "                mixup_img_batch[b] = mixup_img_cle.cpu().detach().numpy()\n",
        "\n",
        "            mixup_img_batch = ep.from_numpy(ep.astensor(img_batch), mixup_img_batch).raw + lamdaOL * img_batch\n",
        "            pred_cle_mixup = classifier(mixup_img_batch)\n",
        "            pred_cle_mixup_all_OL = pred_cle_mixup_all_OL + soft_max(pred_cle_mixup)\n",
        "\n",
        "        pred_cle_mixup_all_OL = pred_cle_mixup_all_OL / num_sample_MIOL\n",
        "\n",
        "        return pred_cle_mixup_all_OL"
      ],
      "execution_count": 0,
      "outputs": []
    },
    {
      "cell_type": "code",
      "metadata": {
        "id": "0m0rRzwHrYCM",
        "colab_type": "code",
        "colab": {}
      },
      "source": [
        "combined_classifier = CombinedModel(classifier)\n",
        "combined_classifier.eval();"
      ],
      "execution_count": 0,
      "outputs": []
    },
    {
      "cell_type": "code",
      "metadata": {
        "id": "bizzUyAtrYCT",
        "colab_type": "code",
        "colab": {}
      },
      "source": [
        "iAT_model = fb.models.PyTorchModel(classifier, bounds=(-1, 1), device=device)\n",
        "iAT_OL_model = fb.models.PyTorchModel(combined_classifier, bounds=(-1, 1), device=device)"
      ],
      "execution_count": 0,
      "outputs": []
    },
    {
      "cell_type": "markdown",
      "metadata": {
        "id": "gIYW5RTQrYCf",
        "colab_type": "text"
      },
      "source": [
        "### Oblivious attack"
      ]
    },
    {
      "cell_type": "code",
      "metadata": {
        "id": "1bf-XmDcrYCo",
        "colab_type": "code",
        "colab": {}
      },
      "source": [
        "acc = 0\n",
        "total_samples = 0\n",
        "\n",
        "for x_batch, y_batch in dataloader_test:\n",
        "    x_batch = x_batch.to(device)\n",
        "    y_batch = y_batch.argmax(1).to(device)\n",
        "    \n",
        "    acc += fb.utils.accuracy(iAT_OL_model, x_batch, y_batch) * x_batch.shape[0]\n",
        "    total_samples += x_batch.shape[0]\n",
        "\n",
        "print(f'Clean accuracy: {acc / total_samples:.3f}')"
      ],
      "execution_count": 0,
      "outputs": []
    },
    {
      "cell_type": "code",
      "metadata": {
        "scrolled": true,
        "id": "h0kuvayFrYCu",
        "colab_type": "code",
        "colab": {}
      },
      "source": [
        "acc = 0\n",
        "total_samples = 0\n",
        "epsilon = 8 / 255\n",
        "\n",
        "attack = fb.attacks.LinfPGD()\n",
        "\n",
        "for images, labels in dataloader_test:\n",
        "    images = images.to(device)\n",
        "    labels = labels.argmax(1).to(device)\n",
        "    N = len(images)\n",
        "    \n",
        "    # PGD returns three values: (1) the raw adversarial images as returned by the\n",
        "    # attack, (2) the raw adversarials clipped to the valid epsilon region and\n",
        "    # (3) a boolean tensor indicating which perturbations are actually adversarial\n",
        "    adv, adv_clipped, adv_mask = attack(iAT_model, images, criterion=fb.criteria.Misclassification(labels), epsilons=2 * epsilon)\n",
        "\n",
        "    acc += fb.utils.accuracy(iAT_OL_model, adv_clipped, labels) * N\n",
        "    total_samples += N\n",
        "    \n",
        "print()\n",
        "print(f'Oblivious adversarial accuracy: {acc / total_samples:.3f}')"
      ],
      "execution_count": 0,
      "outputs": []
    }
  ]
}