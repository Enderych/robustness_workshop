{
  "nbformat": 4,
  "nbformat_minor": 0,
  "metadata": {
    "kernelspec": {
      "name": "python3",
      "display_name": "Python 3"
    },
    "language_info": {
      "codemirror_mode": {
        "name": "ipython",
        "version": 3
      },
      "file_extension": ".py",
      "mimetype": "text/x-python",
      "name": "python",
      "nbconvert_exporter": "python",
      "pygments_lexer": "ipython3",
      "version": "3.6.8"
    },
    "colab": {
      "name": "diversity_attack.ipynb",
      "provenance": [],
      "include_colab_link": true
    },
    "accelerator": "GPU"
  },
  "cells": [
    {
      "cell_type": "markdown",
      "metadata": {
        "id": "view-in-github",
        "colab_type": "text"
      },
      "source": [
        "<a href=\"https://colab.research.google.com/github/wielandbrendel/robustness_workshop/blob/master/03_diversity/diversity_attack.ipynb\" target=\"_parent\"><img src=\"https://colab.research.google.com/assets/colab-badge.svg\" alt=\"Open In Colab\"/></a>"
      ]
    },
    {
      "cell_type": "code",
      "metadata": {
        "id": "c-KCYn1v9Vbm",
        "colab_type": "code",
        "colab": {}
      },
      "source": [
        "# this cell contains all the commands necessary to run this notebook in colab\n",
        "# if you cloned the repository and run this notebook locally you do not need to run this command\n",
        "!wget https://raw.githubusercontent.com/wielandbrendel/robustness_workshop/master/03_diversity/model.py"
      ],
      "execution_count": 0,
      "outputs": []
    },
    {
      "cell_type": "code",
      "metadata": {
        "id": "c4hVOeZ69doH",
        "colab_type": "code",
        "colab": {}
      },
      "source": [
        "# load pretrained model weights\n",
        "!wget https://github.com/wielandbrendel/robustness_workshop/releases/download/v0.0.1/diversity_cifar10_ResNet20v1_model.159.h5"
      ],
      "execution_count": 0,
      "outputs": []
    },
    {
      "cell_type": "code",
      "metadata": {
        "id": "QqNyuxwc9MyH",
        "colab_type": "code",
        "colab": {}
      },
      "source": [
        "# install the latest master version of Foolbox 3.0\n",
        "!pip3 install git+https://github.com/bethgelab/foolbox.git"
      ],
      "execution_count": 0,
      "outputs": []
    },
    {
      "cell_type": "code",
      "metadata": {
        "id": "_Vhv1ef4EG6A",
        "colab_type": "code",
        "colab": {}
      },
      "source": [
        "!pip install --upgrade tensorflow==2.0.0"
      ],
      "execution_count": 0,
      "outputs": []
    },
    {
      "cell_type": "code",
      "metadata": {
        "id": "sI2YD4T-9IBf",
        "colab_type": "code",
        "colab": {}
      },
      "source": [
        "import tensorflow as tf\n",
        "\n",
        "from tensorflow.keras.layers import AveragePooling2D, Input, Flatten\n",
        "from tensorflow.keras.models import Model, load_model\n",
        "\n",
        "import os\n",
        "import numpy as np\n",
        "import foolbox as fb\n",
        "from model import resnet_v1"
      ],
      "execution_count": 0,
      "outputs": []
    },
    {
      "cell_type": "code",
      "metadata": {
        "id": "9iWEGTbM9IBs",
        "colab_type": "code",
        "colab": {}
      },
      "source": [
        "# parameters\n",
        "num_classes = 10\n",
        "lamda = 2.0\n",
        "log_det_lamda = 0.5\n",
        "augmentation = False\n",
        "filepath = 'diversity_cifar10_ResNet20v1_model.159.h5'\n",
        "\n",
        "n = 3\n",
        "depth = n * 6 + 2\n",
        "version = 1\n",
        "\n",
        "input_shape = (32, 32, 3)"
      ],
      "execution_count": 0,
      "outputs": []
    },
    {
      "cell_type": "code",
      "metadata": {
        "scrolled": true,
        "id": "mqVbMl0G9IB2",
        "colab_type": "code",
        "colab": {}
      },
      "source": [
        "model_input = Input(shape=input_shape)\n",
        "model_dic = {}\n",
        "model_out = []\n",
        "for i in range(3):\n",
        "    model_dic[str(i)] = resnet_v1(input=model_input, depth=depth, num_classes=num_classes, dataset='cifar10')\n",
        "    model_out.append(model_dic[str(i)][2])\n",
        "model_output = tf.keras.layers.concatenate(model_out)\n",
        "model = Model(inputs=model_input, outputs=model_output)\n",
        "model_ensemble = tf.keras.layers.Average()(model_out)\n",
        "model_ensemble = Model(inputs=model_input, outputs=model_ensemble)\n",
        "\n",
        "# load model\n",
        "model.load_weights(filepath)\n",
        "\n",
        "# compile model\n",
        "model_ensemble.compile('sgd')"
      ],
      "execution_count": 0,
      "outputs": []
    },
    {
      "cell_type": "code",
      "metadata": {
        "id": "Rp-ylXuQ9ICA",
        "colab_type": "code",
        "colab": {}
      },
      "source": [
        "# Subtracting pixel mean improves accuracy\n",
        "subtract_pixel_mean = True\n",
        "\n",
        "import keras\n",
        "from keras.datasets import cifar10\n",
        "\n",
        "# Load the data.\n",
        "(x_train, y_train), (x_test, y_test) = cifar10.load_data()\n",
        "\n",
        "# Input image dimensions.\n",
        "input_shape = x_train.shape[1:]\n",
        "\n",
        "# Normalize data.\n",
        "x_train = x_train.astype('float32') / 255\n",
        "x_test = x_test[:200].astype('float32') / 255\n",
        "\n",
        "# If subtract pixel mean is enabled\n",
        "clip_min = 0.0\n",
        "clip_max = 1.0\n",
        "if subtract_pixel_mean:\n",
        "    x_train_mean = np.mean(x_train, axis=0)\n",
        "    x_train -= x_train_mean\n",
        "    x_test -= x_train_mean\n",
        "    clip_min -= x_train_mean\n",
        "    clip_max -= x_train_mean\n",
        "    \n",
        "y_test, y_train = y_test[:200].flatten(), y_train.flatten()"
      ],
      "execution_count": 0,
      "outputs": []
    },
    {
      "cell_type": "code",
      "metadata": {
        "id": "WQ___vx59ICG",
        "colab_type": "code",
        "colab": {}
      },
      "source": [
        "pred = model_ensemble.predict(x_test).argmax(1)\n",
        "print(f'Clean accuracy: {np.mean(pred == y_test):.3f}')"
      ],
      "execution_count": 0,
      "outputs": []
    },
    {
      "cell_type": "code",
      "metadata": {
        "id": "OUvwu5zz9ICU",
        "colab_type": "code",
        "colab": {}
      },
      "source": [
        "# convert to Foolbox model\n",
        "fmodel = fb.models.TensorFlowModel(model_ensemble, bounds=(-2, 2))"
      ],
      "execution_count": 0,
      "outputs": []
    },
    {
      "cell_type": "code",
      "metadata": {
        "id": "GnhjZMJ89ICY",
        "colab_type": "code",
        "colab": {}
      },
      "source": [
        "images = tf.convert_to_tensor(x_test, dtype=tf.float32)\n",
        "labels = tf.convert_to_tensor(y_test)"
      ],
      "execution_count": 0,
      "outputs": []
    },
    {
      "cell_type": "markdown",
      "metadata": {
        "id": "m8BeDMmN9ICh",
        "colab_type": "text"
      },
      "source": [
        "### Baseline attack"
      ]
    },
    {
      "cell_type": "code",
      "metadata": {
        "id": "7eE6m8iQFuDR",
        "colab_type": "code",
        "colab": {}
      },
      "source": [
        "epsilon = 0.01\n",
        "\n",
        "acc = 0\n",
        "total_images = 0\n",
        "\n",
        "for images, labels in zip(np.split(x_test, 10), np.split(y_test, 10)):\n",
        "    images = tf.convert_to_tensor(images, dtype=tf.float32)\n",
        "    labels = tf.convert_to_tensor(labels)\n",
        "\n",
        "    attack = fb.attacks.LinfPGD(steps=10, abs_stepsize=epsilon/10)\n",
        "\n",
        "    # PGD returns three values: (1) the raw adversarial images as returned by the\n",
        "    # attack, (2) the raw adversarials clipped to the valid epsilon region and\n",
        "    # (3) a boolean tensor indicating which perturbations are actually adversarial\n",
        "    adv, adv_clipped, adv_mask = attack(fmodel, images, criterion=fb.criteria.Misclassification(labels), epsilons=epsilon)\n",
        "\n",
        "    acc += (1 - adv_mask.numpy().mean()) * len(adv)\n",
        "    total_images += len(adv)\n",
        "\n",
        "print(f'Baseline attack accuracy: {acc / total_images:.3f}')"
      ],
      "execution_count": 0,
      "outputs": []
    }
  ]
}